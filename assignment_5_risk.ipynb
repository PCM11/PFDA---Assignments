{
 "cells": [
  {
   "cell_type": "code",
   "execution_count": 1,
   "metadata": {},
   "outputs": [],
   "source": [
    "# imports\n",
    "\n",
    "import random\n",
    "import matplotlib.pyplot as plt"
   ]
  },
  {
   "cell_type": "code",
   "execution_count": 2,
   "metadata": {},
   "outputs": [],
   "source": [
    "def roll_dice(num_dice):\n",
    "    return sorted([random.randint(1, 6) for _ in range(num_dice)], reverse=True)\n",
    "\n",
    "def simulate_battle_round(attacker_dice, defender_dice):\n",
    "    attacker_rolls = roll_dice(attacker_dice)\n",
    "    defender_rolls = roll_dice(defender_dice)\n",
    "    attacker_losses = 0\n",
    "    defender_losses = 0\n",
    "    \n",
    "    for i in range(min(attacker_dice, defender_dice)):\n",
    "        if attacker_rolls[i] > defender_rolls[i]:\n",
    "            defender_losses += 1\n",
    "        else:\n",
    "            attacker_losses += 1\n",
    "            \n",
    "    return attacker_losses, defender_losses"
   ]
  },
  {
   "cell_type": "code",
   "execution_count": null,
   "metadata": {},
   "outputs": [],
   "source": []
  }
 ],
 "metadata": {
  "kernelspec": {
   "display_name": "base",
   "language": "python",
   "name": "python3"
  },
  "language_info": {
   "codemirror_mode": {
    "name": "ipython",
    "version": 3
   },
   "file_extension": ".py",
   "mimetype": "text/x-python",
   "name": "python",
   "nbconvert_exporter": "python",
   "pygments_lexer": "ipython3",
   "version": "3.12.4"
  }
 },
 "nbformat": 4,
 "nbformat_minor": 2
}
