{
 "cells": [
  {
   "cell_type": "markdown",
   "metadata": {},
   "source": [
    "## Knock Airport Weather\n",
    "\n",
    "Data link for Knock Airport Weather CSV. https://cli.fusio.net/cli/climate_data/webdata/hly4935.csv"
   ]
  },
  {
   "cell_type": "markdown",
   "metadata": {},
   "source": [
    "Import Libraries"
   ]
  },
  {
   "cell_type": "code",
   "execution_count": 10,
   "metadata": {},
   "outputs": [],
   "source": [
    "# Python libraries\n",
    "\n",
    "import pandas as pd # for data manipulation and analysis.\n",
    "import datetime\n",
    "import numpy as np # for numerical operations on arrays.\n",
    "import seaborn as sns # for plotting charts"
   ]
  },
  {
   "cell_type": "markdown",
   "metadata": {},
   "source": [
    "Loading Data"
   ]
  },
  {
   "cell_type": "code",
   "execution_count": 11,
   "metadata": {},
   "outputs": [
    {
     "data": {
      "text/html": [
       "<div>\n",
       "<style scoped>\n",
       "    .dataframe tbody tr th:only-of-type {\n",
       "        vertical-align: middle;\n",
       "    }\n",
       "\n",
       "    .dataframe tbody tr th {\n",
       "        vertical-align: top;\n",
       "    }\n",
       "\n",
       "    .dataframe thead th {\n",
       "        text-align: right;\n",
       "    }\n",
       "</style>\n",
       "<table border=\"1\" class=\"dataframe\">\n",
       "  <thead>\n",
       "    <tr style=\"text-align: right;\">\n",
       "      <th></th>\n",
       "      <th>date</th>\n",
       "      <th>ind</th>\n",
       "      <th>rain</th>\n",
       "      <th>ind.1</th>\n",
       "      <th>temp</th>\n",
       "      <th>ind.2</th>\n",
       "      <th>wetb</th>\n",
       "      <th>dewpt</th>\n",
       "      <th>vappr</th>\n",
       "      <th>rhum</th>\n",
       "      <th>...</th>\n",
       "      <th>ind.3</th>\n",
       "      <th>wdsp</th>\n",
       "      <th>ind.4</th>\n",
       "      <th>wddir</th>\n",
       "      <th>ww</th>\n",
       "      <th>w</th>\n",
       "      <th>sun</th>\n",
       "      <th>vis</th>\n",
       "      <th>clht</th>\n",
       "      <th>clamt</th>\n",
       "    </tr>\n",
       "  </thead>\n",
       "  <tbody>\n",
       "    <tr>\n",
       "      <th>0</th>\n",
       "      <td>10-apr-1996 14:00</td>\n",
       "      <td>0</td>\n",
       "      <td>0.0</td>\n",
       "      <td>0</td>\n",
       "      <td>11.5</td>\n",
       "      <td>0</td>\n",
       "      <td>8.1</td>\n",
       "      <td>3.9</td>\n",
       "      <td>0.0</td>\n",
       "      <td>0</td>\n",
       "      <td>...</td>\n",
       "      <td>0</td>\n",
       "      <td>0</td>\n",
       "      <td>0</td>\n",
       "      <td>0</td>\n",
       "      <td>25</td>\n",
       "      <td>81</td>\n",
       "      <td>0.0</td>\n",
       "      <td>35000</td>\n",
       "      <td>32</td>\n",
       "      <td>5</td>\n",
       "    </tr>\n",
       "    <tr>\n",
       "      <th>1</th>\n",
       "      <td>31-jul-1996 08:00</td>\n",
       "      <td>0</td>\n",
       "      <td>0.0</td>\n",
       "      <td>0</td>\n",
       "      <td>11.5</td>\n",
       "      <td>0</td>\n",
       "      <td>11.1</td>\n",
       "      <td>10.7</td>\n",
       "      <td>0.0</td>\n",
       "      <td>0</td>\n",
       "      <td>...</td>\n",
       "      <td>0</td>\n",
       "      <td>0</td>\n",
       "      <td>0</td>\n",
       "      <td>0</td>\n",
       "      <td>25</td>\n",
       "      <td>82</td>\n",
       "      <td>0.0</td>\n",
       "      <td>40000</td>\n",
       "      <td>45</td>\n",
       "      <td>5</td>\n",
       "    </tr>\n",
       "    <tr>\n",
       "      <th>2</th>\n",
       "      <td>31-jul-1996 09:00</td>\n",
       "      <td>0</td>\n",
       "      <td>0.0</td>\n",
       "      <td>0</td>\n",
       "      <td>11.6</td>\n",
       "      <td>0</td>\n",
       "      <td>10.7</td>\n",
       "      <td>9.8</td>\n",
       "      <td>0.0</td>\n",
       "      <td>0</td>\n",
       "      <td>...</td>\n",
       "      <td>0</td>\n",
       "      <td>0</td>\n",
       "      <td>0</td>\n",
       "      <td>0</td>\n",
       "      <td>80</td>\n",
       "      <td>81</td>\n",
       "      <td>0.0</td>\n",
       "      <td>8000</td>\n",
       "      <td>32</td>\n",
       "      <td>7</td>\n",
       "    </tr>\n",
       "  </tbody>\n",
       "</table>\n",
       "<p>3 rows × 21 columns</p>\n",
       "</div>"
      ],
      "text/plain": [
       "                date  ind rain  ind.1  temp  ind.2  wetb  dewpt  vappr  rhum  \\\n",
       "0  10-apr-1996 14:00    0  0.0      0  11.5      0   8.1    3.9    0.0     0   \n",
       "1  31-jul-1996 08:00    0  0.0      0  11.5      0  11.1   10.7    0.0     0   \n",
       "2  31-jul-1996 09:00    0  0.0      0  11.6      0  10.7    9.8    0.0     0   \n",
       "\n",
       "   ... ind.3  wdsp ind.4  wddir  ww   w  sun    vis clht clamt  \n",
       "0  ...     0     0     0      0  25  81  0.0  35000   32     5  \n",
       "1  ...     0     0     0      0  25  82  0.0  40000   45     5  \n",
       "2  ...     0     0     0      0  80  81  0.0   8000   32     7  \n",
       "\n",
       "[3 rows x 21 columns]"
      ]
     },
     "execution_count": 11,
     "metadata": {},
     "output_type": "execute_result"
    }
   ],
   "source": [
    "# Load data and skip the first 23 rows.\n",
    "df = pd.read_csv(\"https://cli.fusio.net/cli/climate_data/webdata/hly4935.csv\", skiprows=23, low_memory=False)\n",
    "df.head(3)"
   ]
  },
  {
   "cell_type": "markdown",
   "metadata": {},
   "source": [
    "Cleaning Data"
   ]
  },
  {
   "cell_type": "code",
   "execution_count": 12,
   "metadata": {},
   "outputs": [],
   "source": [
    "# Assign blank cells(\" \") to NAN values.\n",
    "df.replace(r\"^\\s*$\", np.nan, regex=True, inplace=True)"
   ]
  },
  {
   "cell_type": "code",
   "execution_count": 13,
   "metadata": {},
   "outputs": [
    {
     "name": "stdout",
     "output_type": "stream",
     "text": [
      "date         0\n",
      "ind          0\n",
      "rain        49\n",
      "ind.1        0\n",
      "temp         0\n",
      "ind.2        0\n",
      "wetb         0\n",
      "dewpt        0\n",
      "vappr        0\n",
      "rhum         0\n",
      "msl         18\n",
      "ind.3        0\n",
      "wdsp        50\n",
      "ind.4        0\n",
      "wddir       52\n",
      "ww       55079\n",
      "w        55080\n",
      "sun          0\n",
      "vis      62174\n",
      "clht        18\n",
      "clamt       18\n",
      "dtype: int64\n"
     ]
    }
   ],
   "source": [
    "# Check for missing data.\n",
    "print(df.isna().sum())"
   ]
  },
  {
   "cell_type": "markdown",
   "metadata": {},
   "source": [
    "Dropping NULL values."
   ]
  },
  {
   "cell_type": "code",
   "execution_count": 14,
   "metadata": {},
   "outputs": [],
   "source": [
    "# Drop null values.\n",
    "df.dropna(inplace = True)\n"
   ]
  },
  {
   "cell_type": "code",
   "execution_count": 15,
   "metadata": {},
   "outputs": [
    {
     "name": "stdout",
     "output_type": "stream",
     "text": [
      "date     0\n",
      "ind      0\n",
      "rain     0\n",
      "ind.1    0\n",
      "temp     0\n",
      "ind.2    0\n",
      "wetb     0\n",
      "dewpt    0\n",
      "vappr    0\n",
      "rhum     0\n",
      "msl      0\n",
      "ind.3    0\n",
      "wdsp     0\n",
      "ind.4    0\n",
      "wddir    0\n",
      "ww       0\n",
      "w        0\n",
      "sun      0\n",
      "vis      0\n",
      "clht     0\n",
      "clamt    0\n",
      "dtype: int64\n"
     ]
    }
   ],
   "source": [
    "# Check if data is clean.\n",
    "print(df.isna().sum())"
   ]
  },
  {
   "cell_type": "markdown",
   "metadata": {},
   "source": [
    "Changing 'date' column to 'datetime' type.\n",
    "\n",
    "https://pandas.pydata.org/pandas-docs/stable/reference/api/pandas.to_datetime.html#pandas-to-datetime"
   ]
  },
  {
   "cell_type": "code",
   "execution_count": 16,
   "metadata": {},
   "outputs": [
    {
     "name": "stderr",
     "output_type": "stream",
     "text": [
      "C:\\Users\\phumi\\AppData\\Local\\Temp\\ipykernel_14172\\4117001753.py:1: UserWarning: Could not infer format, so each element will be parsed individually, falling back to `dateutil`. To ensure parsing is consistent and as-expected, please specify a format.\n",
      "  pd.to_datetime(df['date']).dt.strftime('%Y-%m-%dT%H:%M:%S')\n",
      "C:\\Users\\phumi\\AppData\\Local\\Temp\\ipykernel_14172\\4117001753.py:2: UserWarning: Could not infer format, so each element will be parsed individually, falling back to `dateutil`. To ensure parsing is consistent and as-expected, please specify a format.\n",
      "  df['date'] = pd.to_datetime(df['date'])\n"
     ]
    },
    {
     "data": {
      "text/plain": [
       "0        1996-04-10 14:00:00\n",
       "1        1996-07-31 08:00:00\n",
       "2        1996-07-31 09:00:00\n",
       "3        1996-07-31 10:00:00\n",
       "4        1996-07-31 11:00:00\n",
       "                 ...        \n",
       "247662   2024-10-31 13:00:00\n",
       "247663   2024-10-31 14:00:00\n",
       "247664   2024-10-31 15:00:00\n",
       "247665   2024-10-31 16:00:00\n",
       "247666   2024-10-31 17:00:00\n",
       "Name: date, Length: 185424, dtype: datetime64[ns]"
      ]
     },
     "execution_count": 16,
     "metadata": {},
     "output_type": "execute_result"
    }
   ],
   "source": [
    "pd.to_datetime(df['date']).dt.strftime('%Y-%m-%dT%H:%M:%S')\n",
    "df['date'] = pd.to_datetime(df['date'])\n",
    "df['date']"
   ]
  },
  {
   "cell_type": "markdown",
   "metadata": {},
   "source": [
    "Setting the index to the datetime.\n",
    "\n",
    "https://pandas.pydata.org/pandas-docs/stable/reference/api/pandas.DatetimeIndex.html#pandas-datetimeindex"
   ]
  },
  {
   "cell_type": "code",
   "execution_count": 17,
   "metadata": {},
   "outputs": [
    {
     "data": {
      "text/html": [
       "<div>\n",
       "<style scoped>\n",
       "    .dataframe tbody tr th:only-of-type {\n",
       "        vertical-align: middle;\n",
       "    }\n",
       "\n",
       "    .dataframe tbody tr th {\n",
       "        vertical-align: top;\n",
       "    }\n",
       "\n",
       "    .dataframe thead th {\n",
       "        text-align: right;\n",
       "    }\n",
       "</style>\n",
       "<table border=\"1\" class=\"dataframe\">\n",
       "  <thead>\n",
       "    <tr style=\"text-align: right;\">\n",
       "      <th></th>\n",
       "      <th>ind</th>\n",
       "      <th>rain</th>\n",
       "      <th>ind.1</th>\n",
       "      <th>temp</th>\n",
       "      <th>ind.2</th>\n",
       "      <th>wetb</th>\n",
       "      <th>dewpt</th>\n",
       "      <th>vappr</th>\n",
       "      <th>rhum</th>\n",
       "      <th>msl</th>\n",
       "      <th>ind.3</th>\n",
       "      <th>wdsp</th>\n",
       "      <th>ind.4</th>\n",
       "      <th>wddir</th>\n",
       "      <th>ww</th>\n",
       "      <th>w</th>\n",
       "      <th>sun</th>\n",
       "      <th>vis</th>\n",
       "      <th>clht</th>\n",
       "      <th>clamt</th>\n",
       "    </tr>\n",
       "    <tr>\n",
       "      <th>date</th>\n",
       "      <th></th>\n",
       "      <th></th>\n",
       "      <th></th>\n",
       "      <th></th>\n",
       "      <th></th>\n",
       "      <th></th>\n",
       "      <th></th>\n",
       "      <th></th>\n",
       "      <th></th>\n",
       "      <th></th>\n",
       "      <th></th>\n",
       "      <th></th>\n",
       "      <th></th>\n",
       "      <th></th>\n",
       "      <th></th>\n",
       "      <th></th>\n",
       "      <th></th>\n",
       "      <th></th>\n",
       "      <th></th>\n",
       "      <th></th>\n",
       "    </tr>\n",
       "  </thead>\n",
       "  <tbody>\n",
       "    <tr>\n",
       "      <th>1996-04-10 14:00:00</th>\n",
       "      <td>0</td>\n",
       "      <td>0.0</td>\n",
       "      <td>0</td>\n",
       "      <td>11.5</td>\n",
       "      <td>0</td>\n",
       "      <td>8.1</td>\n",
       "      <td>3.9</td>\n",
       "      <td>0.0</td>\n",
       "      <td>0</td>\n",
       "      <td>1016.7</td>\n",
       "      <td>0</td>\n",
       "      <td>0</td>\n",
       "      <td>0</td>\n",
       "      <td>0</td>\n",
       "      <td>25</td>\n",
       "      <td>81</td>\n",
       "      <td>0.0</td>\n",
       "      <td>35000</td>\n",
       "      <td>32</td>\n",
       "      <td>5</td>\n",
       "    </tr>\n",
       "    <tr>\n",
       "      <th>1996-07-31 08:00:00</th>\n",
       "      <td>0</td>\n",
       "      <td>0.0</td>\n",
       "      <td>0</td>\n",
       "      <td>11.5</td>\n",
       "      <td>0</td>\n",
       "      <td>11.1</td>\n",
       "      <td>10.7</td>\n",
       "      <td>0.0</td>\n",
       "      <td>0</td>\n",
       "      <td>1011.4</td>\n",
       "      <td>0</td>\n",
       "      <td>0</td>\n",
       "      <td>0</td>\n",
       "      <td>0</td>\n",
       "      <td>25</td>\n",
       "      <td>82</td>\n",
       "      <td>0.0</td>\n",
       "      <td>40000</td>\n",
       "      <td>45</td>\n",
       "      <td>5</td>\n",
       "    </tr>\n",
       "    <tr>\n",
       "      <th>1996-07-31 09:00:00</th>\n",
       "      <td>0</td>\n",
       "      <td>0.0</td>\n",
       "      <td>0</td>\n",
       "      <td>11.6</td>\n",
       "      <td>0</td>\n",
       "      <td>10.7</td>\n",
       "      <td>9.8</td>\n",
       "      <td>0.0</td>\n",
       "      <td>0</td>\n",
       "      <td>1011.4</td>\n",
       "      <td>0</td>\n",
       "      <td>0</td>\n",
       "      <td>0</td>\n",
       "      <td>0</td>\n",
       "      <td>80</td>\n",
       "      <td>81</td>\n",
       "      <td>0.0</td>\n",
       "      <td>8000</td>\n",
       "      <td>32</td>\n",
       "      <td>7</td>\n",
       "    </tr>\n",
       "  </tbody>\n",
       "</table>\n",
       "</div>"
      ],
      "text/plain": [
       "                     ind rain  ind.1  temp  ind.2  wetb  dewpt  vappr  rhum  \\\n",
       "date                                                                          \n",
       "1996-04-10 14:00:00    0  0.0      0  11.5      0   8.1    3.9    0.0     0   \n",
       "1996-07-31 08:00:00    0  0.0      0  11.5      0  11.1   10.7    0.0     0   \n",
       "1996-07-31 09:00:00    0  0.0      0  11.6      0  10.7    9.8    0.0     0   \n",
       "\n",
       "                        msl  ind.3 wdsp  ind.4 wddir  ww   w  sun    vis clht  \\\n",
       "date                                                                            \n",
       "1996-04-10 14:00:00  1016.7      0    0      0     0  25  81  0.0  35000   32   \n",
       "1996-07-31 08:00:00  1011.4      0    0      0     0  25  82  0.0  40000   45   \n",
       "1996-07-31 09:00:00  1011.4      0    0      0     0  80  81  0.0   8000   32   \n",
       "\n",
       "                    clamt  \n",
       "date                       \n",
       "1996-04-10 14:00:00     5  \n",
       "1996-07-31 08:00:00     5  \n",
       "1996-07-31 09:00:00     7  "
      ]
     },
     "execution_count": 17,
     "metadata": {},
     "output_type": "execute_result"
    }
   ],
   "source": [
    "df.set_index('date', inplace=True)\n",
    "df.head(3)"
   ]
  },
  {
   "cell_type": "markdown",
   "metadata": {},
   "source": [
    "Checking column type"
   ]
  },
  {
   "cell_type": "code",
   "execution_count": 18,
   "metadata": {},
   "outputs": [
    {
     "data": {
      "text/plain": [
       "ind        int64\n",
       "rain      object\n",
       "ind.1      int64\n",
       "temp     float64\n",
       "ind.2      int64\n",
       "wetb     float64\n",
       "dewpt    float64\n",
       "vappr    float64\n",
       "rhum       int64\n",
       "msl       object\n",
       "ind.3      int64\n",
       "wdsp      object\n",
       "ind.4      int64\n",
       "wddir     object\n",
       "ww        object\n",
       "w         object\n",
       "sun      float64\n",
       "vis       object\n",
       "clht      object\n",
       "clamt     object\n",
       "dtype: object"
      ]
     },
     "execution_count": 18,
     "metadata": {},
     "output_type": "execute_result"
    }
   ],
   "source": [
    "df.dtypes"
   ]
  },
  {
   "cell_type": "markdown",
   "metadata": {},
   "source": [
    "Plotting using seaborn.\n",
    "\n",
    "https://seaborn.pydata.org/tutorial/function_overview.html#overview-of-seaborn-plotting-functions\n"
   ]
  },
  {
   "cell_type": "code",
   "execution_count": 19,
   "metadata": {},
   "outputs": [
    {
     "data": {
      "text/plain": [
       "<Axes: xlabel='date', ylabel='temp'>"
      ]
     },
     "execution_count": 19,
     "metadata": {},
     "output_type": "execute_result"
    },
    {
     "data": {
      "image/png": "[encoded data removed]",
      "text/plain": [
       "<Figure size 640x480 with 1 Axes>"
      ]
     },
     "metadata": {},
     "output_type": "display_data"
    }
   ],
   "source": [
    "# Temperature over the years\n",
    "sns.lineplot(data=df, x='date', y='temp')"
   ]
  },
  {
   "cell_type": "markdown",
   "metadata": {},
   "source": [
    "Mean Temperature"
   ]
  },
  {
   "cell_type": "code",
   "execution_count": 20,
   "metadata": {},
   "outputs": [
    {
     "data": {
      "text/plain": [
       "9.039584951246873"
      ]
     },
     "execution_count": 20,
     "metadata": {},
     "output_type": "execute_result"
    }
   ],
   "source": [
    "# Calculating overall mean temp\n",
    "\n",
    "dateFrom = \"1996-04-10 14:00:00\"\n",
    "dateTo = \"2024-11-01 00:00:00\"\n",
    "df.loc[dateFrom:dateTo]['temp'].mean()"
   ]
  },
  {
   "cell_type": "markdown",
   "metadata": {},
   "source": [
    "Calculating Daily Mean Temperature\n",
    "\n",
    "https://pandas.pydata.org/pandas-docs/stable/reference/api/pandas.Series.resample.html#pandas-series-resample"
   ]
  },
  {
   "cell_type": "code",
   "execution_count": 21,
   "metadata": {},
   "outputs": [],
   "source": [
    "# Calculate daily mean temperature.\n",
    "daily_avtemp =  df[\"temp\"].resample(\"D\").mean"
   ]
  },
  {
   "cell_type": "markdown",
   "metadata": {},
   "source": [
    "Adding a new column ('daily_avtemp')."
   ]
  },
  {
   "cell_type": "code",
   "execution_count": 22,
   "metadata": {},
   "outputs": [
    {
     "data": {
      "text/plain": [
       "date\n",
       "1996-04-10 14:00:00   NaN\n",
       "1996-07-31 08:00:00   NaN\n",
       "1996-07-31 09:00:00   NaN\n",
       "1996-07-31 10:00:00   NaN\n",
       "1996-07-31 11:00:00   NaN\n",
       "                       ..\n",
       "2024-10-31 13:00:00   NaN\n",
       "2024-10-31 14:00:00   NaN\n",
       "2024-10-31 15:00:00   NaN\n",
       "2024-10-31 16:00:00   NaN\n",
       "2024-10-31 17:00:00   NaN\n",
       "Name: daily_avtemp, Length: 185424, dtype: float64"
      ]
     },
     "execution_count": 22,
     "metadata": {},
     "output_type": "execute_result"
    }
   ],
   "source": [
    "# Create 'daily_avtemp' column\n",
    "df['daily_avtemp'] = df[\"temp\"].resample(\"D\").mean()\n",
    "df['daily_avtemp']"
   ]
  },
  {
   "cell_type": "markdown",
   "metadata": {},
   "source": [
    "Cleaning Data"
   ]
  },
  {
   "cell_type": "code",
   "execution_count": 23,
   "metadata": {},
   "outputs": [
    {
     "data": {
      "text/html": [
       "<div>\n",
       "<style scoped>\n",
       "    .dataframe tbody tr th:only-of-type {\n",
       "        vertical-align: middle;\n",
       "    }\n",
       "\n",
       "    .dataframe tbody tr th {\n",
       "        vertical-align: top;\n",
       "    }\n",
       "\n",
       "    .dataframe thead th {\n",
       "        text-align: right;\n",
       "    }\n",
       "</style>\n",
       "<table border=\"1\" class=\"dataframe\">\n",
       "  <thead>\n",
       "    <tr style=\"text-align: right;\">\n",
       "      <th></th>\n",
       "      <th>ind</th>\n",
       "      <th>rain</th>\n",
       "      <th>ind.1</th>\n",
       "      <th>temp</th>\n",
       "      <th>ind.2</th>\n",
       "      <th>wetb</th>\n",
       "      <th>dewpt</th>\n",
       "      <th>vappr</th>\n",
       "      <th>rhum</th>\n",
       "      <th>msl</th>\n",
       "      <th>...</th>\n",
       "      <th>wdsp</th>\n",
       "      <th>ind.4</th>\n",
       "      <th>wddir</th>\n",
       "      <th>ww</th>\n",
       "      <th>w</th>\n",
       "      <th>sun</th>\n",
       "      <th>vis</th>\n",
       "      <th>clht</th>\n",
       "      <th>clamt</th>\n",
       "      <th>daily_avtemp</th>\n",
       "    </tr>\n",
       "    <tr>\n",
       "      <th>date</th>\n",
       "      <th></th>\n",
       "      <th></th>\n",
       "      <th></th>\n",
       "      <th></th>\n",
       "      <th></th>\n",
       "      <th></th>\n",
       "      <th></th>\n",
       "      <th></th>\n",
       "      <th></th>\n",
       "      <th></th>\n",
       "      <th></th>\n",
       "      <th></th>\n",
       "      <th></th>\n",
       "      <th></th>\n",
       "      <th></th>\n",
       "      <th></th>\n",
       "      <th></th>\n",
       "      <th></th>\n",
       "      <th></th>\n",
       "      <th></th>\n",
       "      <th></th>\n",
       "    </tr>\n",
       "  </thead>\n",
       "  <tbody>\n",
       "    <tr>\n",
       "      <th>1996-08-01</th>\n",
       "      <td>0</td>\n",
       "      <td>0.0</td>\n",
       "      <td>0</td>\n",
       "      <td>9.7</td>\n",
       "      <td>0</td>\n",
       "      <td>9.0</td>\n",
       "      <td>8.3</td>\n",
       "      <td>0.0</td>\n",
       "      <td>0</td>\n",
       "      <td>1011.4</td>\n",
       "      <td>...</td>\n",
       "      <td>0</td>\n",
       "      <td>0</td>\n",
       "      <td>0</td>\n",
       "      <td>1</td>\n",
       "      <td>81</td>\n",
       "      <td>0.0</td>\n",
       "      <td>35000</td>\n",
       "      <td>999</td>\n",
       "      <td>3</td>\n",
       "      <td>11.704348</td>\n",
       "    </tr>\n",
       "    <tr>\n",
       "      <th>1996-08-02</th>\n",
       "      <td>0</td>\n",
       "      <td>0.0</td>\n",
       "      <td>0</td>\n",
       "      <td>10.3</td>\n",
       "      <td>0</td>\n",
       "      <td>9.6</td>\n",
       "      <td>8.9</td>\n",
       "      <td>11.4</td>\n",
       "      <td>91</td>\n",
       "      <td>1020.7</td>\n",
       "      <td>...</td>\n",
       "      <td>4</td>\n",
       "      <td>2</td>\n",
       "      <td>260</td>\n",
       "      <td>1</td>\n",
       "      <td>82</td>\n",
       "      <td>0.0</td>\n",
       "      <td>35000</td>\n",
       "      <td>30</td>\n",
       "      <td>6</td>\n",
       "      <td>12.504167</td>\n",
       "    </tr>\n",
       "    <tr>\n",
       "      <th>1996-08-03</th>\n",
       "      <td>0</td>\n",
       "      <td>0.0</td>\n",
       "      <td>0</td>\n",
       "      <td>12.1</td>\n",
       "      <td>0</td>\n",
       "      <td>11.7</td>\n",
       "      <td>11.3</td>\n",
       "      <td>13.4</td>\n",
       "      <td>95</td>\n",
       "      <td>1028.6</td>\n",
       "      <td>...</td>\n",
       "      <td>5</td>\n",
       "      <td>2</td>\n",
       "      <td>230</td>\n",
       "      <td>2</td>\n",
       "      <td>11</td>\n",
       "      <td>4.9</td>\n",
       "      <td>40000</td>\n",
       "      <td>39</td>\n",
       "      <td>7</td>\n",
       "      <td>14.266667</td>\n",
       "    </tr>\n",
       "  </tbody>\n",
       "</table>\n",
       "<p>3 rows × 21 columns</p>\n",
       "</div>"
      ],
      "text/plain": [
       "            ind rain  ind.1  temp  ind.2  wetb  dewpt  vappr  rhum     msl  \\\n",
       "date                                                                         \n",
       "1996-08-01    0  0.0      0   9.7      0   9.0    8.3    0.0     0  1011.4   \n",
       "1996-08-02    0  0.0      0  10.3      0   9.6    8.9   11.4    91  1020.7   \n",
       "1996-08-03    0  0.0      0  12.1      0  11.7   11.3   13.4    95  1028.6   \n",
       "\n",
       "            ...  wdsp ind.4  wddir ww   w  sun    vis clht clamt daily_avtemp  \n",
       "date        ...                                                                \n",
       "1996-08-01  ...     0     0      0  1  81  0.0  35000  999     3    11.704348  \n",
       "1996-08-02  ...     4     2    260  1  82  0.0  35000   30     6    12.504167  \n",
       "1996-08-03  ...     5     2    230  2  11  4.9  40000   39     7    14.266667  \n",
       "\n",
       "[3 rows x 21 columns]"
      ]
     },
     "execution_count": 23,
     "metadata": {},
     "output_type": "execute_result"
    }
   ],
   "source": [
    "# Drop null values.\n",
    "\n",
    "df.dropna(inplace = True)\n",
    "df.head(3)\n"
   ]
  },
  {
   "cell_type": "markdown",
   "metadata": {},
   "source": [
    "Daily mean temperature plot."
   ]
  },
  {
   "cell_type": "code",
   "execution_count": 24,
   "metadata": {},
   "outputs": [
    {
     "data": {
      "text/plain": [
       "<Axes: xlabel='date', ylabel='daily_avtemp'>"
      ]
     },
     "execution_count": 24,
     "metadata": {},
     "output_type": "execute_result"
    },
    {
     "data": {
      "image/png": "[encoded data removed]",
      "text/plain": [
       "<Figure size 640x480 with 1 Axes>"
      ]
     },
     "metadata": {},
     "output_type": "display_data"
    }
   ],
   "source": [
    "# Plot\n",
    "sns.lineplot(data=df, x='date', y='daily_avtemp')\n"
   ]
  },
  {
   "cell_type": "markdown",
   "metadata": {},
   "source": [
    "Monthly Mean Temperature"
   ]
  },
  {
   "cell_type": "code",
   "execution_count": 25,
   "metadata": {},
   "outputs": [],
   "source": [
    "# Calculate monthly mean temperature\n",
    "monthly_avtemp = df[\"temp\"].resample(\"ME\").mean()"
   ]
  },
  {
   "cell_type": "markdown",
   "metadata": {},
   "source": [
    "Adding a new ('monthly_avtemp') column."
   ]
  },
  {
   "cell_type": "code",
   "execution_count": 26,
   "metadata": {},
   "outputs": [
    {
     "data": {
      "text/plain": [
       "date\n",
       "1996-08-01   NaN\n",
       "1996-08-02   NaN\n",
       "1996-08-03   NaN\n",
       "1996-08-04   NaN\n",
       "1996-08-05   NaN\n",
       "              ..\n",
       "2022-07-14   NaN\n",
       "2022-07-17   NaN\n",
       "2022-08-05   NaN\n",
       "2022-11-05   NaN\n",
       "2023-01-21   NaN\n",
       "Name: monthly_avtemp, Length: 4843, dtype: float64"
      ]
     },
     "execution_count": 26,
     "metadata": {},
     "output_type": "execute_result"
    }
   ],
   "source": [
    "#Create 'monthly_av' column\n",
    "df['monthly_avtemp'] = df[\"temp\"].resample(\"ME\").mean()\n",
    "df['monthly_avtemp']"
   ]
  },
  {
   "cell_type": "markdown",
   "metadata": {},
   "source": [
    "Cleaning data."
   ]
  },
  {
   "cell_type": "code",
   "execution_count": 27,
   "metadata": {},
   "outputs": [
    {
     "data": {
      "text/html": [
       "<div>\n",
       "<style scoped>\n",
       "    .dataframe tbody tr th:only-of-type {\n",
       "        vertical-align: middle;\n",
       "    }\n",
       "\n",
       "    .dataframe tbody tr th {\n",
       "        vertical-align: top;\n",
       "    }\n",
       "\n",
       "    .dataframe thead th {\n",
       "        text-align: right;\n",
       "    }\n",
       "</style>\n",
       "<table border=\"1\" class=\"dataframe\">\n",
       "  <thead>\n",
       "    <tr style=\"text-align: right;\">\n",
       "      <th></th>\n",
       "      <th>ind</th>\n",
       "      <th>rain</th>\n",
       "      <th>ind.1</th>\n",
       "      <th>temp</th>\n",
       "      <th>ind.2</th>\n",
       "      <th>wetb</th>\n",
       "      <th>dewpt</th>\n",
       "      <th>vappr</th>\n",
       "      <th>rhum</th>\n",
       "      <th>msl</th>\n",
       "      <th>...</th>\n",
       "      <th>ind.4</th>\n",
       "      <th>wddir</th>\n",
       "      <th>ww</th>\n",
       "      <th>w</th>\n",
       "      <th>sun</th>\n",
       "      <th>vis</th>\n",
       "      <th>clht</th>\n",
       "      <th>clamt</th>\n",
       "      <th>daily_avtemp</th>\n",
       "      <th>monthly_avtemp</th>\n",
       "    </tr>\n",
       "    <tr>\n",
       "      <th>date</th>\n",
       "      <th></th>\n",
       "      <th></th>\n",
       "      <th></th>\n",
       "      <th></th>\n",
       "      <th></th>\n",
       "      <th></th>\n",
       "      <th></th>\n",
       "      <th></th>\n",
       "      <th></th>\n",
       "      <th></th>\n",
       "      <th></th>\n",
       "      <th></th>\n",
       "      <th></th>\n",
       "      <th></th>\n",
       "      <th></th>\n",
       "      <th></th>\n",
       "      <th></th>\n",
       "      <th></th>\n",
       "      <th></th>\n",
       "      <th></th>\n",
       "      <th></th>\n",
       "    </tr>\n",
       "  </thead>\n",
       "  <tbody>\n",
       "    <tr>\n",
       "      <th>1996-08-31</th>\n",
       "      <td>0</td>\n",
       "      <td>0.0</td>\n",
       "      <td>0</td>\n",
       "      <td>8.2</td>\n",
       "      <td>0</td>\n",
       "      <td>7.9</td>\n",
       "      <td>7.6</td>\n",
       "      <td>10.4</td>\n",
       "      <td>96</td>\n",
       "      <td>1030.5</td>\n",
       "      <td>...</td>\n",
       "      <td>2</td>\n",
       "      <td>270</td>\n",
       "      <td>2</td>\n",
       "      <td>11</td>\n",
       "      <td>4.9</td>\n",
       "      <td>50000</td>\n",
       "      <td>999</td>\n",
       "      <td>1</td>\n",
       "      <td>11.258333</td>\n",
       "      <td>11.65000</td>\n",
       "    </tr>\n",
       "    <tr>\n",
       "      <th>1996-09-30</th>\n",
       "      <td>0</td>\n",
       "      <td>0.0</td>\n",
       "      <td>0</td>\n",
       "      <td>8.2</td>\n",
       "      <td>0</td>\n",
       "      <td>7.6</td>\n",
       "      <td>6.9</td>\n",
       "      <td>10.0</td>\n",
       "      <td>92</td>\n",
       "      <td>1007.9</td>\n",
       "      <td>...</td>\n",
       "      <td>2</td>\n",
       "      <td>240</td>\n",
       "      <td>2</td>\n",
       "      <td>81</td>\n",
       "      <td>0.0</td>\n",
       "      <td>40000</td>\n",
       "      <td>50</td>\n",
       "      <td>5</td>\n",
       "      <td>8.795833</td>\n",
       "      <td>10.56000</td>\n",
       "    </tr>\n",
       "    <tr>\n",
       "      <th>1996-10-31</th>\n",
       "      <td>0</td>\n",
       "      <td>1.9</td>\n",
       "      <td>0</td>\n",
       "      <td>9.0</td>\n",
       "      <td>0</td>\n",
       "      <td>9.0</td>\n",
       "      <td>9.0</td>\n",
       "      <td>11.5</td>\n",
       "      <td>100</td>\n",
       "      <td>1007.9</td>\n",
       "      <td>...</td>\n",
       "      <td>2</td>\n",
       "      <td>160</td>\n",
       "      <td>61</td>\n",
       "      <td>62</td>\n",
       "      <td>0.0</td>\n",
       "      <td>2400</td>\n",
       "      <td>2</td>\n",
       "      <td>8</td>\n",
       "      <td>10.050000</td>\n",
       "      <td>9.52963</td>\n",
       "    </tr>\n",
       "  </tbody>\n",
       "</table>\n",
       "<p>3 rows × 22 columns</p>\n",
       "</div>"
      ],
      "text/plain": [
       "            ind rain  ind.1  temp  ind.2  wetb  dewpt  vappr  rhum     msl  \\\n",
       "date                                                                         \n",
       "1996-08-31    0  0.0      0   8.2      0   7.9    7.6   10.4    96  1030.5   \n",
       "1996-09-30    0  0.0      0   8.2      0   7.6    6.9   10.0    92  1007.9   \n",
       "1996-10-31    0  1.9      0   9.0      0   9.0    9.0   11.5   100  1007.9   \n",
       "\n",
       "            ...  ind.4 wddir  ww   w  sun    vis  clht clamt daily_avtemp  \\\n",
       "date        ...                                                             \n",
       "1996-08-31  ...      2   270   2  11  4.9  50000   999     1    11.258333   \n",
       "1996-09-30  ...      2   240   2  81  0.0  40000    50     5     8.795833   \n",
       "1996-10-31  ...      2   160  61  62  0.0   2400     2     8    10.050000   \n",
       "\n",
       "           monthly_avtemp  \n",
       "date                       \n",
       "1996-08-31       11.65000  \n",
       "1996-09-30       10.56000  \n",
       "1996-10-31        9.52963  \n",
       "\n",
       "[3 rows x 22 columns]"
      ]
     },
     "execution_count": 27,
     "metadata": {},
     "output_type": "execute_result"
    }
   ],
   "source": [
    "# Dropping null values.\n",
    "df.dropna(inplace = True)\n",
    "df.head(3)"
   ]
  },
  {
   "cell_type": "markdown",
   "metadata": {},
   "source": [
    "Monthly mean temperature plot."
   ]
  },
  {
   "cell_type": "code",
   "execution_count": 28,
   "metadata": {},
   "outputs": [
    {
     "data": {
      "text/plain": [
       "<Axes: xlabel='date', ylabel='monthly_avtemp'>"
      ]
     },
     "execution_count": 28,
     "metadata": {},
     "output_type": "execute_result"
    },
    {
     "data": {
      "image/png": "[encoded data removed]",
      "text/plain": [
       "<Figure size 640x480 with 1 Axes>"
      ]
     },
     "metadata": {},
     "output_type": "display_data"
    }
   ],
   "source": [
    "# Plot\n",
    "sns.lineplot(data=df, x='date', y='monthly_avtemp')"
   ]
  },
  {
   "cell_type": "markdown",
   "metadata": {},
   "source": [
    "#### The Windspeed"
   ]
  },
  {
   "cell_type": "markdown",
   "metadata": {},
   "source": [
    "Converting windspeed to floats."
   ]
  },
  {
   "cell_type": "code",
   "execution_count": 29,
   "metadata": {},
   "outputs": [],
   "source": [
    "# Convert windspeed to floats\n",
    "df['wdsp'] = df['wdsp'].astype(float)"
   ]
  },
  {
   "cell_type": "markdown",
   "metadata": {},
   "source": [
    "Calculate average windspeed"
   ]
  },
  {
   "cell_type": "code",
   "execution_count": 30,
   "metadata": {},
   "outputs": [],
   "source": [
    "# Yearly average\n",
    "y_avesp =  df['wdsp'].resample('YE').mean()"
   ]
  },
  {
   "cell_type": "markdown",
   "metadata": {},
   "source": [
    "Adding 'yearly average' windspeed column."
   ]
  },
  {
   "cell_type": "code",
   "execution_count": 31,
   "metadata": {},
   "outputs": [
    {
     "data": {
      "text/plain": [
       "date\n",
       "1996-08-31     NaN\n",
       "1996-09-30     NaN\n",
       "1996-10-31     NaN\n",
       "1996-11-30     NaN\n",
       "1996-12-31    13.2\n",
       "              ... \n",
       "2009-06-30     NaN\n",
       "2009-07-31     NaN\n",
       "2009-08-31     NaN\n",
       "2009-09-30     NaN\n",
       "2009-10-31     NaN\n",
       "Name: y_avesp, Length: 159, dtype: float64"
      ]
     },
     "execution_count": 31,
     "metadata": {},
     "output_type": "execute_result"
    }
   ],
   "source": [
    "# Create 'y_ave' column\n",
    "df['y_avesp'] = df['wdsp'].resample('YE').mean()\n",
    "df['y_avesp']\n"
   ]
  },
  {
   "cell_type": "markdown",
   "metadata": {},
   "source": [
    "Cleaning data."
   ]
  },
  {
   "cell_type": "code",
   "execution_count": 32,
   "metadata": {},
   "outputs": [
    {
     "data": {
      "text/html": [
       "<div>\n",
       "<style scoped>\n",
       "    .dataframe tbody tr th:only-of-type {\n",
       "        vertical-align: middle;\n",
       "    }\n",
       "\n",
       "    .dataframe tbody tr th {\n",
       "        vertical-align: top;\n",
       "    }\n",
       "\n",
       "    .dataframe thead th {\n",
       "        text-align: right;\n",
       "    }\n",
       "</style>\n",
       "<table border=\"1\" class=\"dataframe\">\n",
       "  <thead>\n",
       "    <tr style=\"text-align: right;\">\n",
       "      <th></th>\n",
       "      <th>ind</th>\n",
       "      <th>rain</th>\n",
       "      <th>ind.1</th>\n",
       "      <th>temp</th>\n",
       "      <th>ind.2</th>\n",
       "      <th>wetb</th>\n",
       "      <th>dewpt</th>\n",
       "      <th>vappr</th>\n",
       "      <th>rhum</th>\n",
       "      <th>msl</th>\n",
       "      <th>...</th>\n",
       "      <th>wddir</th>\n",
       "      <th>ww</th>\n",
       "      <th>w</th>\n",
       "      <th>sun</th>\n",
       "      <th>vis</th>\n",
       "      <th>clht</th>\n",
       "      <th>clamt</th>\n",
       "      <th>daily_avtemp</th>\n",
       "      <th>monthly_avtemp</th>\n",
       "      <th>y_avesp</th>\n",
       "    </tr>\n",
       "    <tr>\n",
       "      <th>date</th>\n",
       "      <th></th>\n",
       "      <th></th>\n",
       "      <th></th>\n",
       "      <th></th>\n",
       "      <th></th>\n",
       "      <th></th>\n",
       "      <th></th>\n",
       "      <th></th>\n",
       "      <th></th>\n",
       "      <th></th>\n",
       "      <th></th>\n",
       "      <th></th>\n",
       "      <th></th>\n",
       "      <th></th>\n",
       "      <th></th>\n",
       "      <th></th>\n",
       "      <th></th>\n",
       "      <th></th>\n",
       "      <th></th>\n",
       "      <th></th>\n",
       "      <th></th>\n",
       "    </tr>\n",
       "  </thead>\n",
       "  <tbody>\n",
       "    <tr>\n",
       "      <th>1996-12-31</th>\n",
       "      <td>0</td>\n",
       "      <td>0.0</td>\n",
       "      <td>1</td>\n",
       "      <td>-0.2</td>\n",
       "      <td>1</td>\n",
       "      <td>-1.4</td>\n",
       "      <td>-4.0</td>\n",
       "      <td>4.6</td>\n",
       "      <td>76</td>\n",
       "      <td>1024.3</td>\n",
       "      <td>...</td>\n",
       "      <td>50</td>\n",
       "      <td>2</td>\n",
       "      <td>11</td>\n",
       "      <td>4.9</td>\n",
       "      <td>40000</td>\n",
       "      <td>50</td>\n",
       "      <td>5</td>\n",
       "      <td>-1.504167</td>\n",
       "      <td>3.353333</td>\n",
       "      <td>13.200000</td>\n",
       "    </tr>\n",
       "    <tr>\n",
       "      <th>1997-12-31</th>\n",
       "      <td>0</td>\n",
       "      <td>0.2</td>\n",
       "      <td>0</td>\n",
       "      <td>4.1</td>\n",
       "      <td>0</td>\n",
       "      <td>3.5</td>\n",
       "      <td>2.6</td>\n",
       "      <td>7.4</td>\n",
       "      <td>90</td>\n",
       "      <td>986.0</td>\n",
       "      <td>...</td>\n",
       "      <td>290</td>\n",
       "      <td>21</td>\n",
       "      <td>62</td>\n",
       "      <td>0.0</td>\n",
       "      <td>25000</td>\n",
       "      <td>28</td>\n",
       "      <td>8</td>\n",
       "      <td>1.320833</td>\n",
       "      <td>5.032258</td>\n",
       "      <td>8.083333</td>\n",
       "    </tr>\n",
       "    <tr>\n",
       "      <th>1998-12-31</th>\n",
       "      <td>0</td>\n",
       "      <td>0.0</td>\n",
       "      <td>0</td>\n",
       "      <td>4.0</td>\n",
       "      <td>0</td>\n",
       "      <td>3.1</td>\n",
       "      <td>1.7</td>\n",
       "      <td>6.9</td>\n",
       "      <td>85</td>\n",
       "      <td>986.2</td>\n",
       "      <td>...</td>\n",
       "      <td>130</td>\n",
       "      <td>2</td>\n",
       "      <td>11</td>\n",
       "      <td>0.0</td>\n",
       "      <td>30000</td>\n",
       "      <td>35</td>\n",
       "      <td>6</td>\n",
       "      <td>3.945833</td>\n",
       "      <td>4.729032</td>\n",
       "      <td>9.500000</td>\n",
       "    </tr>\n",
       "  </tbody>\n",
       "</table>\n",
       "<p>3 rows × 23 columns</p>\n",
       "</div>"
      ],
      "text/plain": [
       "            ind rain  ind.1  temp  ind.2  wetb  dewpt  vappr  rhum     msl  \\\n",
       "date                                                                         \n",
       "1996-12-31    0  0.0      1  -0.2      1  -1.4   -4.0    4.6    76  1024.3   \n",
       "1997-12-31    0  0.2      0   4.1      0   3.5    2.6    7.4    90   986.0   \n",
       "1998-12-31    0  0.0      0   4.0      0   3.1    1.7    6.9    85   986.2   \n",
       "\n",
       "            ...  wddir  ww   w  sun    vis clht  clamt daily_avtemp  \\\n",
       "date        ...                                                       \n",
       "1996-12-31  ...     50   2  11  4.9  40000   50      5    -1.504167   \n",
       "1997-12-31  ...    290  21  62  0.0  25000   28      8     1.320833   \n",
       "1998-12-31  ...    130   2  11  0.0  30000   35      6     3.945833   \n",
       "\n",
       "           monthly_avtemp    y_avesp  \n",
       "date                                  \n",
       "1996-12-31       3.353333  13.200000  \n",
       "1997-12-31       5.032258   8.083333  \n",
       "1998-12-31       4.729032   9.500000  \n",
       "\n",
       "[3 rows x 23 columns]"
      ]
     },
     "execution_count": 32,
     "metadata": {},
     "output_type": "execute_result"
    }
   ],
   "source": [
    "# Drop null values.\n",
    "\n",
    "df.dropna(inplace = True)\n",
    "df.head(3)"
   ]
  },
  {
   "cell_type": "code",
   "execution_count": 33,
   "metadata": {},
   "outputs": [
    {
     "data": {
      "text/plain": [
       "<Axes: xlabel='date', ylabel='y_avesp'>"
      ]
     },
     "execution_count": 33,
     "metadata": {},
     "output_type": "execute_result"
    },
    {
     "data": {
      "image/png": "[encoded data removed]",
      "text/plain": [
       "<Figure size 640x480 with 1 Axes>"
      ]
     },
     "metadata": {},
     "output_type": "display_data"
    }
   ],
   "source": [
    "# Plot\n",
    "sns.lineplot(data=df, x='date', y='y_avesp')"
   ]
  },
  {
   "cell_type": "markdown",
   "metadata": {},
   "source": [
    "Daily Maximum windspeed."
   ]
  },
  {
   "cell_type": "code",
   "execution_count": 34,
   "metadata": {},
   "outputs": [],
   "source": [
    "# Calculate maximum daily windspeed\n",
    "daily_maxspeed =  df['wdsp'].resample('D').max()"
   ]
  },
  {
   "cell_type": "markdown",
   "metadata": {},
   "source": [
    "Add 'daily_maxspeed' column."
   ]
  },
  {
   "cell_type": "code",
   "execution_count": 35,
   "metadata": {},
   "outputs": [
    {
     "data": {
      "text/plain": [
       "date\n",
       "1996-12-31     9.0\n",
       "1997-12-31    13.0\n",
       "1998-12-31    21.0\n",
       "1999-12-31     8.0\n",
       "2000-12-31     6.0\n",
       "2001-12-31     3.0\n",
       "2002-12-31     8.0\n",
       "2003-12-31     6.0\n",
       "2004-12-31     4.0\n",
       "2005-12-31    14.0\n",
       "2006-12-31    10.0\n",
       "2007-12-31    15.0\n",
       "2008-12-31    11.0\n",
       "Name: daily_maxspeed, dtype: float64"
      ]
     },
     "execution_count": 35,
     "metadata": {},
     "output_type": "execute_result"
    }
   ],
   "source": [
    "# Create 'daily_max' column\n",
    "df['daily_maxspeed'] = df[\"wdsp\"].resample(\"D\").max()\n",
    "df['daily_maxspeed']"
   ]
  },
  {
   "cell_type": "code",
   "execution_count": 36,
   "metadata": {},
   "outputs": [],
   "source": [
    "# check for missing data.\n",
    "#print(df['daily_maxspeed'].isnull())"
   ]
  },
  {
   "cell_type": "code",
   "execution_count": 37,
   "metadata": {},
   "outputs": [
    {
     "data": {
      "text/plain": [
       "<Axes: xlabel='date', ylabel='daily_maxspeed'>"
      ]
     },
     "execution_count": 37,
     "metadata": {},
     "output_type": "execute_result"
    },
    {
     "data": {
      "image/png": "[encoded data removed]",
      "text/plain": [
       "<Figure size 640x480 with 1 Axes>"
      ]
     },
     "metadata": {},
     "output_type": "display_data"
    }
   ],
   "source": [
    "# Plot\n",
    "sns.lineplot(data=df, x='date', y='daily_maxspeed')"
   ]
  },
  {
   "cell_type": "markdown",
   "metadata": {},
   "source": [
    "Monthly Mean for daily maximum windspeed."
   ]
  },
  {
   "cell_type": "code",
   "execution_count": 38,
   "metadata": {},
   "outputs": [],
   "source": [
    "# Calculate mean of daily maximun speed\n",
    "monthly_av_maxspeed = df['daily_maxspeed'].resample('ME').mean()"
   ]
  },
  {
   "cell_type": "markdown",
   "metadata": {},
   "source": [
    "Adding 'monthly_av_maxspeed' column"
   ]
  },
  {
   "cell_type": "code",
   "execution_count": 39,
   "metadata": {},
   "outputs": [
    {
     "data": {
      "text/plain": [
       "date\n",
       "1996-12-31     9.0\n",
       "1997-12-31    13.0\n",
       "1998-12-31    21.0\n",
       "1999-12-31     8.0\n",
       "2000-12-31     6.0\n",
       "2001-12-31     3.0\n",
       "2002-12-31     8.0\n",
       "2003-12-31     6.0\n",
       "2004-12-31     4.0\n",
       "2005-12-31    14.0\n",
       "2006-12-31    10.0\n",
       "2007-12-31    15.0\n",
       "2008-12-31    11.0\n",
       "Name: monthly_av_maxspeed, dtype: float64"
      ]
     },
     "execution_count": 39,
     "metadata": {},
     "output_type": "execute_result"
    }
   ],
   "source": [
    "#Create 'monthly_maxspeed' column\n",
    "df['monthly_av_maxspeed'] = df[\"daily_maxspeed\"].resample(\"ME\").mean()\n",
    "df['monthly_av_maxspeed']"
   ]
  },
  {
   "cell_type": "code",
   "execution_count": 40,
   "metadata": {},
   "outputs": [
    {
     "data": {
      "text/plain": [
       "<Axes: xlabel='date', ylabel='monthly_av_maxspeed'>"
      ]
     },
     "execution_count": 40,
     "metadata": {},
     "output_type": "execute_result"
    },
    {
     "data": {
      "image/png": "[encoded data removed]",
      "text/plain": [
       "<Figure size 640x480 with 1 Axes>"
      ]
     },
     "metadata": {},
     "output_type": "display_data"
    }
   ],
   "source": [
    "#Plot\n",
    "sns.lineplot(data=df, x='date', y='monthly_av_maxspeed')"
   ]
  }
 ],
 "metadata": {
  "kernelspec": {
   "display_name": "base",
   "language": "python",
   "name": "python3"
  },
  "language_info": {
   "codemirror_mode": {
    "name": "ipython",
    "version": 3
   },
   "file_extension": ".py",
   "mimetype": "text/x-python",
   "name": "python",
   "nbconvert_exporter": "python",
   "pygments_lexer": "ipython3",
   "version": "3.12.4"
  }
 },
 "nbformat": 4,
 "nbformat_minor": 2
}
